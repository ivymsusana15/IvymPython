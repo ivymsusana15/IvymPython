{
 "cells": [
  {
   "cell_type": "code",
   "execution_count": 62,
   "id": "84e81130",
   "metadata": {},
   "outputs": [
    {
     "name": "stdout",
     "output_type": "stream",
     "text": [
      "10\n"
     ]
    }
   ],
   "source": [
    "a=10\n",
    "print(a)"
   ]
  },
  {
   "cell_type": "code",
   "execution_count": 63,
   "id": "a4ebf31c",
   "metadata": {},
   "outputs": [
    {
     "name": "stdout",
     "output_type": "stream",
     "text": [
      "Bryan\n"
     ]
    }
   ],
   "source": [
    "b=\"Bryan\"\n",
    "print(b)"
   ]
  },
  {
   "attachments": {},
   "cell_type": "markdown",
   "id": "7684c314",
   "metadata": {},
   "source": [
    "Input From User"
   ]
  },
  {
   "cell_type": "code",
   "execution_count": 64,
   "id": "93a2ca35",
   "metadata": {},
   "outputs": [
    {
     "name": "stdout",
     "output_type": "stream",
     "text": [
      "50\n"
     ]
    }
   ],
   "source": [
    "name = input(\"Enter your name:\")\n",
    "print(name)"
   ]
  },
  {
   "cell_type": "code",
   "execution_count": 65,
   "id": "d3347400",
   "metadata": {},
   "outputs": [
    {
     "name": "stdout",
     "output_type": "stream",
     "text": [
      "10\n",
      "<class 'int'>\n"
     ]
    }
   ],
   "source": [
    "a=10 #static coding\n",
    "print(a)\n",
    "print(type(a))"
   ]
  },
  {
   "cell_type": "code",
   "execution_count": 66,
   "id": "cf92e883",
   "metadata": {},
   "outputs": [
    {
     "name": "stdout",
     "output_type": "stream",
     "text": [
      "Bryan\n",
      "<class 'str'>\n"
     ]
    }
   ],
   "source": [
    "b=\"Bryan\"\n",
    "print(b)\n",
    "print(type(b))"
   ]
  },
  {
   "cell_type": "code",
   "execution_count": 67,
   "id": "d9ae2ef5",
   "metadata": {},
   "outputs": [
    {
     "name": "stdout",
     "output_type": "stream",
     "text": [
      "100100\n"
     ]
    }
   ],
   "source": [
    "value1=input(\"Value 1:\")\n",
    "value2=input(\"Value 2:\")\n",
    "result=value1+value2\n",
    "print(result)"
   ]
  },
  {
   "cell_type": "code",
   "execution_count": 68,
   "id": "2bab90a6",
   "metadata": {},
   "outputs": [
    {
     "name": "stdout",
     "output_type": "stream",
     "text": [
      "100\n"
     ]
    }
   ],
   "source": [
    "value1=int(input(\"Value 1:\"))\n",
    "value2=int(input(\"Value 2:\"))\n",
    "result=value1+value2\n",
    "print(result)"
   ]
  },
  {
   "cell_type": "code",
   "execution_count": 69,
   "id": "1b552e02",
   "metadata": {},
   "outputs": [
    {
     "name": "stdout",
     "output_type": "stream",
     "text": [
      "Current String: Python Programming\n"
     ]
    }
   ],
   "source": [
    "a=\"Python Programming\"\n",
    "print(\"Current String:\",a)"
   ]
  },
  {
   "cell_type": "code",
   "execution_count": 70,
   "id": "6f30e70e",
   "metadata": {},
   "outputs": [
    {
     "ename": "SyntaxError",
     "evalue": "leading zeros in decimal integer literals are not permitted; use an 0o prefix for octal integers (191710360.py, line 4)",
     "output_type": "error",
     "traceback": [
      "\u001b[1;36m  Cell \u001b[1;32mIn[70], line 4\u001b[1;36m\u001b[0m\n\u001b[1;33m    012345\u001b[0m\n\u001b[1;37m    ^\u001b[0m\n\u001b[1;31mSyntaxError\u001b[0m\u001b[1;31m:\u001b[0m leading zeros in decimal integer literals are not permitted; use an 0o prefix for octal integers\n"
     ]
    }
   ],
   "source": [
    "index value = 0\n",
    "\n",
    "Python\n",
    "012345"
   ]
  },
  {
   "cell_type": "code",
   "execution_count": null,
   "id": "e144023e",
   "metadata": {},
   "outputs": [],
   "source": [
    "# P y t h o n  P r o g r a m m i n g\n",
    "# 012 3 4 5 6 7 89 10 1112131415161718"
   ]
  },
  {
   "cell_type": "code",
   "execution_count": null,
   "id": "80b11d02",
   "metadata": {},
   "outputs": [
    {
     "name": "stdout",
     "output_type": "stream",
     "text": [
      "P\n"
     ]
    }
   ],
   "source": [
    "print(a[0])"
   ]
  },
  {
   "cell_type": "code",
   "execution_count": null,
   "id": "e3873292",
   "metadata": {},
   "outputs": [
    {
     "name": "stdout",
     "output_type": "stream",
     "text": [
      "Print value between index 1 to 6\n",
      "ython \n"
     ]
    }
   ],
   "source": [
    "print(\"Print value between index 1 to 6\")\n",
    "print(a[1:7])"
   ]
  },
  {
   "cell_type": "code",
   "execution_count": null,
   "id": "a659fd4b",
   "metadata": {},
   "outputs": [
    {
     "name": "stdout",
     "output_type": "stream",
     "text": [
      "Print value between index 1 to 8 but alternate\n",
      "yhnP\n"
     ]
    }
   ],
   "source": [
    "print(\"Print value between index 1 to 8 but alternate\")\n",
    "print(a[1:9:2]) #[Start:End:Steps]"
   ]
  },
  {
   "cell_type": "code",
   "execution_count": null,
   "id": "1b1037c0",
   "metadata": {},
   "outputs": [
    {
     "name": "stdout",
     "output_type": "stream",
     "text": [
      "ython Programming\n"
     ]
    }
   ],
   "source": [
    "print(a[1:])"
   ]
  },
  {
   "cell_type": "code",
   "execution_count": null,
   "id": "a3b7ae4c",
   "metadata": {},
   "outputs": [
    {
     "name": "stdout",
     "output_type": "stream",
     "text": [
      "g\n"
     ]
    }
   ],
   "source": [
    "print(a[-1])"
   ]
  },
  {
   "cell_type": "code",
   "execution_count": null,
   "id": "b0fc145b",
   "metadata": {},
   "outputs": [
    {
     "name": "stdout",
     "output_type": "stream",
     "text": [
      "Current String: Xaltius Academy\n"
     ]
    }
   ],
   "source": [
    "b=\"Xaltius Academy\"\n",
    "print(\"Current String:\",b)\n"
   ]
  },
  {
   "cell_type": "code",
   "execution_count": null,
   "id": "d78a43b6",
   "metadata": {},
   "outputs": [
    {
     "name": "stdout",
     "output_type": "stream",
     "text": [
      "a\n"
     ]
    }
   ],
   "source": [
    "print(b[1])"
   ]
  },
  {
   "cell_type": "code",
   "execution_count": null,
   "id": "32e632e7",
   "metadata": {},
   "outputs": [
    {
     "name": "stdout",
     "output_type": "stream",
     "text": [
      "altius Ac\n"
     ]
    }
   ],
   "source": [
    "print(b[1:10])"
   ]
  },
  {
   "cell_type": "code",
   "execution_count": null,
   "id": "21c65cec",
   "metadata": {},
   "outputs": [
    {
     "name": "stdout",
     "output_type": "stream",
     "text": [
      "Xaltius Academy\n"
     ]
    }
   ],
   "source": [
    "print(b[0:])"
   ]
  },
  {
   "cell_type": "code",
   "execution_count": null,
   "id": "1c7e8f08",
   "metadata": {},
   "outputs": [
    {
     "name": "stdout",
     "output_type": "stream",
     "text": [
      "Xtsce\n"
     ]
    }
   ],
   "source": [
    "print(b[0::3])"
   ]
  },
  {
   "cell_type": "code",
   "execution_count": null,
   "id": "36665d25",
   "metadata": {},
   "outputs": [
    {
     "name": "stdout",
     "output_type": "stream",
     "text": [
      "m\n"
     ]
    }
   ],
   "source": [
    "print(b[-2])"
   ]
  },
  {
   "cell_type": "code",
   "execution_count": 82,
   "id": "19fe94a7",
   "metadata": {},
   "outputs": [
    {
     "name": "stdout",
     "output_type": "stream",
     "text": [
      "70\n"
     ]
    }
   ],
   "source": [
    "value3=int(input(\"Value3:\"))\n",
    "value4=int(input(\"Value4:\"))\n",
    "result=value3-value4\n",
    "print(result);"
   ]
  },
  {
   "cell_type": "code",
   "execution_count": 55,
   "id": "cf85b84f",
   "metadata": {},
   "outputs": [
    {
     "name": "stdout",
     "output_type": "stream",
     "text": [
      "1020\n"
     ]
    }
   ],
   "source": [
    "value1=input(\"Value 1:\")\n",
    "value2=input(\"Value 2:\")\n",
    "result=value1+value2\n",
    "print(result)"
   ]
  }
 ],
 "metadata": {
  "kernelspec": {
   "display_name": "Python 3 (ipykernel)",
   "language": "python",
   "name": "python3"
  },
  "language_info": {
   "codemirror_mode": {
    "name": "ipython",
    "version": 3
   },
   "file_extension": ".py",
   "mimetype": "text/x-python",
   "name": "python",
   "nbconvert_exporter": "python",
   "pygments_lexer": "ipython3",
   "version": "3.11.3"
  }
 },
 "nbformat": 4,
 "nbformat_minor": 5
}
