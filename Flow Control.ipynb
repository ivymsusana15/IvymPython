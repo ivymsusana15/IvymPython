{
 "cells": [
  {
   "attachments": {},
   "cell_type": "markdown",
   "metadata": {},
   "source": [
    "Simple If"
   ]
  },
  {
   "cell_type": "code",
   "execution_count": 5,
   "metadata": {},
   "outputs": [
    {
     "name": "stdout",
     "output_type": "stream",
     "text": [
      "A is greater than B\n"
     ]
    }
   ],
   "source": [
    "a = int(input(\"Enter the value of A:\"))\n",
    "b = int(input(\"Enter the value of B:\"))\n",
    "\n",
    "if(a>b):\n",
    "    print(\"A is greater than B\")"
   ]
  },
  {
   "cell_type": "code",
   "execution_count": 11,
   "metadata": {},
   "outputs": [
    {
     "name": "stdout",
     "output_type": "stream",
     "text": [
      "A is greater than B\n"
     ]
    }
   ],
   "source": [
    "a = int(input(\"Enter the value of A:\"))\n",
    "b = int(input(\"Enter the value of B:\"))\n",
    "\n",
    "if(a>b):\n",
    "  print(\"A is greater than B\")\n",
    "else:\n",
    "  print(\"B is Greater than A\")\n",
    "    \n"
   ]
  },
  {
   "attachments": {},
   "cell_type": "markdown",
   "metadata": {},
   "source": [
    "Odd and Even"
   ]
  },
  {
   "cell_type": "code",
   "execution_count": 8,
   "metadata": {},
   "outputs": [
    {
     "name": "stdout",
     "output_type": "stream",
     "text": [
      "10 : Even Number\n"
     ]
    }
   ],
   "source": [
    "value1=int(input(\"Value:\"))\n",
    "if(value1%2==0):\n",
    "    print(value1,\": Even Number\")\n",
    "else:\n",
    "    print(value1,\": Odd Number\")"
   ]
  },
  {
   "attachments": {},
   "cell_type": "markdown",
   "metadata": {},
   "source": [
    "If_Else Ladder"
   ]
  },
  {
   "cell_type": "code",
   "execution_count": 10,
   "metadata": {},
   "outputs": [
    {
     "name": "stdout",
     "output_type": "stream",
     "text": [
      "A is less than B but greater than C\n"
     ]
    }
   ],
   "source": [
    "a = int(input(\"Enter the value of A:\"))\n",
    "b = int(input(\"Enter the value of B:\"))\n",
    "c = int(input(\"Enter the value of C:\"))\n",
    "\n",
    "if(a>b and a>c):\n",
    "    print(\"A is greater thean B and C\")\n",
    "elif(b>a and c>a):\n",
    "    print(\"A is less than B and C\")\n",
    "elif(b>a and c<a):\n",
    "    print(\"A is less than B but greater than C\")\n",
    "    \n",
    "\n"
   ]
  },
  {
   "attachments": {},
   "cell_type": "markdown",
   "metadata": {},
   "source": [
    "Percentage is greater than 70 --> Dist\n",
    "Percentage is between 65 to 70 --> 1st class\n",
    "Percentage is between 60 to 65 --> 2nd class\n",
    "Percentage is between 55 to 60 --> 3rd class\n",
    "Percentage is less than 55 --> fail\n"
   ]
  },
  {
   "cell_type": "code",
   "execution_count": 32,
   "metadata": {},
   "outputs": [
    {
     "name": "stdout",
     "output_type": "stream",
     "text": [
      "Dist\n"
     ]
    }
   ],
   "source": [
    "Percentage= float(input(\"Percentage:\"))\n",
    "                     \n",
    "if (Percentage>=70):\n",
    "    print(\"Dist\")\n",
    "\n",
    "elif(Percentage>=65 and Percentage<70):\n",
    "    print(\"1st class\")\n",
    "\n",
    "elif(Percentage>=60 and Percentage<65):\n",
    "     print(\"2nd class\")\n",
    "\n",
    "elif(Percentage>=55 and Percentage<60):\n",
    "    print(\"3rd class\")\n",
    "\n",
    "else:\n",
    "    print(\"Fail\")"
   ]
  },
  {
   "attachments": {},
   "cell_type": "markdown",
   "metadata": {},
   "source": [
    "Nested If"
   ]
  },
  {
   "cell_type": "code",
   "execution_count": null,
   "metadata": {},
   "outputs": [],
   "source": [
    "Blood Donate\n",
    "-> Age should be greater than 18\n",
    "-> Weight should be greater than 50\n",
    "-> If age and weight both match then only user can donate blood\n",
    "-> If age is less than 18 show message \"Under Age\"\n",
    "-> If weight is less than 50 show message \"Under Weight\"\n",
    "->if age is less than 18 it should not ask for weight"
   ]
  },
  {
   "cell_type": "code",
   "execution_count": 50,
   "metadata": {},
   "outputs": [
    {
     "name": "stdout",
     "output_type": "stream",
     "text": [
      "Under Age\n"
     ]
    }
   ],
   "source": [
    "Age = int(input(\"Age:\"))\n",
    "\n",
    "if(Age>18):\n",
    "    Weight = float(input(\"Weight:\"))\n",
    "    if(Weight>=50):\n",
    "       print(\"Blood Donate\")\n",
    "    else:\n",
    "        print(\"Under Weight\")\n",
    "\n",
    "else:\n",
    "    print(\"Under Age\")"
   ]
  },
  {
   "attachments": {},
   "cell_type": "markdown",
   "metadata": {},
   "source": [
    "Pizza App\n",
    "\n",
    "Note -- User should have 4 wheeler then only user can buy\n",
    "\n",
    "Small -- Buy 4 small pizza offer is 500 ml coke free\n",
    "Medium -- Buy 3 medium pizza offer is 1ltr coke free\n",
    "Large -- Buy 2 large pizza offer is 1 ice-cream with browine free\n",
    "Monster -- Buy 1 monster pizza offer is 1 small pizza and 500 ml coke free\n",
    "\n",
    "\n",
    "User Input:\n",
    "\n",
    "Wheeler == Yes/No\n",
    "Size == String\n",
    "qty = int\n",
    "\n",
    "Note == After size only it should ask for qty"
   ]
  },
  {
   "attachments": {},
   "cell_type": "markdown",
   "metadata": {},
   "source": []
  }
 ],
 "metadata": {
  "kernelspec": {
   "display_name": "Python 3",
   "language": "python",
   "name": "python3"
  },
  "language_info": {
   "codemirror_mode": {
    "name": "ipython",
    "version": 3
   },
   "file_extension": ".py",
   "mimetype": "text/x-python",
   "name": "python",
   "nbconvert_exporter": "python",
   "pygments_lexer": "ipython3",
   "version": "3.11.3"
  },
  "orig_nbformat": 4
 },
 "nbformat": 4,
 "nbformat_minor": 2
}
